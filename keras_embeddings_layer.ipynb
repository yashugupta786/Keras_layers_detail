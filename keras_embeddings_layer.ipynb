{
  "nbformat": 4,
  "nbformat_minor": 0,
  "metadata": {
    "colab": {
      "name": "Untitled6.ipynb",
      "provenance": [],
      "authorship_tag": "ABX9TyPDWZWkbnTxag59Jb84XGbI",
      "include_colab_link": true
    },
    "kernelspec": {
      "name": "python3",
      "display_name": "Python 3"
    }
  },
  "cells": [
    {
      "cell_type": "markdown",
      "metadata": {
        "id": "view-in-github",
        "colab_type": "text"
      },
      "source": [
        "<a href=\"https://colab.research.google.com/github/yashugupta786/Keras_layers_detail/blob/master/keras_embeddings_layer.ipynb\" target=\"_parent\"><img src=\"https://colab.research.google.com/assets/colab-badge.svg\" alt=\"Open In Colab\"/></a>"
      ]
    },
    {
      "cell_type": "code",
      "metadata": {
        "id": "k2ho6vqsZOwl",
        "colab_type": "code",
        "outputId": "198054e0-6303-4809-c042-a58d6fb97690",
        "colab": {
          "base_uri": "https://localhost:8080/",
          "height": 97
        }
      },
      "source": [
        "\n",
        "from numpy import array\n",
        "from keras.preprocessing.text import one_hot\n",
        "from keras.preprocessing.sequence import pad_sequences\n",
        "from keras.models import Sequential\n",
        "from keras.layers import Dense\n",
        "from keras.layers import Flatten\n",
        "from keras.layers.embeddings import Embedding\n",
        "# define documents\n",
        "docs = ['Well done!',\n",
        "\t\t'Good work',\n",
        "\t\t'Great effort',\n",
        "\t\t'nice work',\n",
        "\t\t'Excellent!',\n",
        "\t\t'Weak',\n",
        "\t\t'Poor effort!',\n",
        "\t\t'not good',\n",
        "\t\t'poor work',\n",
        "\t\t'Could have done better.']\n",
        "# define class labels\n",
        "labels = array([1,1,1,1,1,0,0,0,0,0])\n",
        "# integer encode the documents\n",
        "vocab_size = 50\n",
        "encoded_docs = [one_hot(d, vocab_size) for d in docs]\n",
        "print(encoded_docs)\n",
        "# pad documents to a max length of 4 words\n"
      ],
      "execution_count": 1,
      "outputs": [
        {
          "output_type": "stream",
          "text": [
            "Using TensorFlow backend.\n"
          ],
          "name": "stderr"
        },
        {
          "output_type": "display_data",
          "data": {
            "text/html": [
              "<p style=\"color: red;\">\n",
              "The default version of TensorFlow in Colab will soon switch to TensorFlow 2.x.<br>\n",
              "We recommend you <a href=\"https://www.tensorflow.org/guide/migrate\" target=\"_blank\">upgrade</a> now \n",
              "or ensure your notebook will continue to use TensorFlow 1.x via the <code>%tensorflow_version 1.x</code> magic:\n",
              "<a href=\"https://colab.research.google.com/notebooks/tensorflow_version.ipynb\" target=\"_blank\">more info</a>.</p>\n"
            ],
            "text/plain": [
              "<IPython.core.display.HTML object>"
            ]
          },
          "metadata": {
            "tags": []
          }
        },
        {
          "output_type": "stream",
          "text": [
            "[[26, 48], [40, 33], [19, 2], [49, 33], [18], [49], [41, 2], [3, 40], [41, 33], [22, 8, 48, 12]]\n"
          ],
          "name": "stdout"
        }
      ]
    },
    {
      "cell_type": "code",
      "metadata": {
        "id": "SeWAvoOvZmC_",
        "colab_type": "code",
        "outputId": "51859a3a-d82a-46e0-b4a8-65438bca417f",
        "colab": {
          "base_uri": "https://localhost:8080/",
          "height": 187
        }
      },
      "source": [
        "max_length = 4\n",
        "padded_docs = pad_sequences(encoded_docs, maxlen=max_length, padding='post')\n",
        "print(padded_docs)"
      ],
      "execution_count": 2,
      "outputs": [
        {
          "output_type": "stream",
          "text": [
            "[[26 48  0  0]\n",
            " [40 33  0  0]\n",
            " [19  2  0  0]\n",
            " [49 33  0  0]\n",
            " [18  0  0  0]\n",
            " [49  0  0  0]\n",
            " [41  2  0  0]\n",
            " [ 3 40  0  0]\n",
            " [41 33  0  0]\n",
            " [22  8 48 12]]\n"
          ],
          "name": "stdout"
        }
      ]
    },
    {
      "cell_type": "code",
      "metadata": {
        "id": "t5-qfCd3aPrl",
        "colab_type": "code",
        "outputId": "4ef5ad2a-56fb-450f-f1fe-ae1401fdcdeb",
        "colab": {
          "base_uri": "https://localhost:8080/",
          "height": 1000
        }
      },
      "source": [
        "model = Sequential()\n",
        "model.add(Embedding(vocab_size, 8, input_length=max_length))\n",
        "model.compile('rmsprop','mse')\n",
        "embeddings=model.predict(padded_docs)\n",
        "print(embeddings)"
      ],
      "execution_count": 3,
      "outputs": [
        {
          "output_type": "stream",
          "text": [
            "WARNING:tensorflow:From /usr/local/lib/python3.6/dist-packages/keras/backend/tensorflow_backend.py:66: The name tf.get_default_graph is deprecated. Please use tf.compat.v1.get_default_graph instead.\n",
            "\n",
            "WARNING:tensorflow:From /usr/local/lib/python3.6/dist-packages/keras/backend/tensorflow_backend.py:541: The name tf.placeholder is deprecated. Please use tf.compat.v1.placeholder instead.\n",
            "\n",
            "WARNING:tensorflow:From /usr/local/lib/python3.6/dist-packages/keras/backend/tensorflow_backend.py:4432: The name tf.random_uniform is deprecated. Please use tf.random.uniform instead.\n",
            "\n",
            "WARNING:tensorflow:From /usr/local/lib/python3.6/dist-packages/keras/optimizers.py:793: The name tf.train.Optimizer is deprecated. Please use tf.compat.v1.train.Optimizer instead.\n",
            "\n",
            "WARNING:tensorflow:From /usr/local/lib/python3.6/dist-packages/keras/backend/tensorflow_backend.py:3005: The name tf.Session is deprecated. Please use tf.compat.v1.Session instead.\n",
            "\n",
            "WARNING:tensorflow:From /usr/local/lib/python3.6/dist-packages/keras/backend/tensorflow_backend.py:190: The name tf.get_default_session is deprecated. Please use tf.compat.v1.get_default_session instead.\n",
            "\n",
            "WARNING:tensorflow:From /usr/local/lib/python3.6/dist-packages/keras/backend/tensorflow_backend.py:197: The name tf.ConfigProto is deprecated. Please use tf.compat.v1.ConfigProto instead.\n",
            "\n",
            "WARNING:tensorflow:From /usr/local/lib/python3.6/dist-packages/keras/backend/tensorflow_backend.py:207: The name tf.global_variables is deprecated. Please use tf.compat.v1.global_variables instead.\n",
            "\n",
            "WARNING:tensorflow:From /usr/local/lib/python3.6/dist-packages/keras/backend/tensorflow_backend.py:216: The name tf.is_variable_initialized is deprecated. Please use tf.compat.v1.is_variable_initialized instead.\n",
            "\n",
            "WARNING:tensorflow:From /usr/local/lib/python3.6/dist-packages/keras/backend/tensorflow_backend.py:223: The name tf.variables_initializer is deprecated. Please use tf.compat.v1.variables_initializer instead.\n",
            "\n",
            "[[[ 0.02815868  0.01946953 -0.03005728 -0.00321419 -0.04303196\n",
            "   -0.00126998  0.03091338  0.0480368 ]\n",
            "  [ 0.03209497  0.01001441 -0.00409777  0.04796961  0.0016076\n",
            "   -0.01766706 -0.02172011 -0.04172415]\n",
            "  [-0.01820119  0.0022464  -0.00431123 -0.0262556   0.02239097\n",
            "   -0.02388175 -0.00440181 -0.04347557]\n",
            "  [-0.01820119  0.0022464  -0.00431123 -0.0262556   0.02239097\n",
            "   -0.02388175 -0.00440181 -0.04347557]]\n",
            "\n",
            " [[ 0.00522076 -0.04386137 -0.00909629 -0.03829919 -0.04086357\n",
            "   -0.04323533  0.0465597   0.0052688 ]\n",
            "  [ 0.00608804 -0.00265255 -0.01835129 -0.03175711  0.01810208\n",
            "    0.03913397 -0.01319851 -0.00221466]\n",
            "  [-0.01820119  0.0022464  -0.00431123 -0.0262556   0.02239097\n",
            "   -0.02388175 -0.00440181 -0.04347557]\n",
            "  [-0.01820119  0.0022464  -0.00431123 -0.0262556   0.02239097\n",
            "   -0.02388175 -0.00440181 -0.04347557]]\n",
            "\n",
            " [[-0.00183544 -0.0145914   0.02379962  0.04096531 -0.0168692\n",
            "   -0.02165581  0.01494062  0.04186423]\n",
            "  [-0.02400312  0.00594757 -0.01487224  0.04987403 -0.01293409\n",
            "   -0.01863539 -0.00313499 -0.02193364]\n",
            "  [-0.01820119  0.0022464  -0.00431123 -0.0262556   0.02239097\n",
            "   -0.02388175 -0.00440181 -0.04347557]\n",
            "  [-0.01820119  0.0022464  -0.00431123 -0.0262556   0.02239097\n",
            "   -0.02388175 -0.00440181 -0.04347557]]\n",
            "\n",
            " [[-0.00460621  0.04867179  0.00609114  0.00953434 -0.02933249\n",
            "    0.00828488  0.04941689  0.00779008]\n",
            "  [ 0.00608804 -0.00265255 -0.01835129 -0.03175711  0.01810208\n",
            "    0.03913397 -0.01319851 -0.00221466]\n",
            "  [-0.01820119  0.0022464  -0.00431123 -0.0262556   0.02239097\n",
            "   -0.02388175 -0.00440181 -0.04347557]\n",
            "  [-0.01820119  0.0022464  -0.00431123 -0.0262556   0.02239097\n",
            "   -0.02388175 -0.00440181 -0.04347557]]\n",
            "\n",
            " [[ 0.03411473 -0.03725744  0.02334652  0.02605197 -0.0255529\n",
            "   -0.02910309  0.0300413   0.03844226]\n",
            "  [-0.01820119  0.0022464  -0.00431123 -0.0262556   0.02239097\n",
            "   -0.02388175 -0.00440181 -0.04347557]\n",
            "  [-0.01820119  0.0022464  -0.00431123 -0.0262556   0.02239097\n",
            "   -0.02388175 -0.00440181 -0.04347557]\n",
            "  [-0.01820119  0.0022464  -0.00431123 -0.0262556   0.02239097\n",
            "   -0.02388175 -0.00440181 -0.04347557]]\n",
            "\n",
            " [[-0.00460621  0.04867179  0.00609114  0.00953434 -0.02933249\n",
            "    0.00828488  0.04941689  0.00779008]\n",
            "  [-0.01820119  0.0022464  -0.00431123 -0.0262556   0.02239097\n",
            "   -0.02388175 -0.00440181 -0.04347557]\n",
            "  [-0.01820119  0.0022464  -0.00431123 -0.0262556   0.02239097\n",
            "   -0.02388175 -0.00440181 -0.04347557]\n",
            "  [-0.01820119  0.0022464  -0.00431123 -0.0262556   0.02239097\n",
            "   -0.02388175 -0.00440181 -0.04347557]]\n",
            "\n",
            " [[-0.01781988  0.03162363 -0.00962825 -0.00963336  0.00444083\n",
            "   -0.04916047 -0.0340528   0.04095515]\n",
            "  [-0.02400312  0.00594757 -0.01487224  0.04987403 -0.01293409\n",
            "   -0.01863539 -0.00313499 -0.02193364]\n",
            "  [-0.01820119  0.0022464  -0.00431123 -0.0262556   0.02239097\n",
            "   -0.02388175 -0.00440181 -0.04347557]\n",
            "  [-0.01820119  0.0022464  -0.00431123 -0.0262556   0.02239097\n",
            "   -0.02388175 -0.00440181 -0.04347557]]\n",
            "\n",
            " [[ 0.03940034 -0.0165159  -0.00830538  0.04551302 -0.0454653\n",
            "    0.03648431 -0.04273003 -0.0403465 ]\n",
            "  [ 0.00522076 -0.04386137 -0.00909629 -0.03829919 -0.04086357\n",
            "   -0.04323533  0.0465597   0.0052688 ]\n",
            "  [-0.01820119  0.0022464  -0.00431123 -0.0262556   0.02239097\n",
            "   -0.02388175 -0.00440181 -0.04347557]\n",
            "  [-0.01820119  0.0022464  -0.00431123 -0.0262556   0.02239097\n",
            "   -0.02388175 -0.00440181 -0.04347557]]\n",
            "\n",
            " [[-0.01781988  0.03162363 -0.00962825 -0.00963336  0.00444083\n",
            "   -0.04916047 -0.0340528   0.04095515]\n",
            "  [ 0.00608804 -0.00265255 -0.01835129 -0.03175711  0.01810208\n",
            "    0.03913397 -0.01319851 -0.00221466]\n",
            "  [-0.01820119  0.0022464  -0.00431123 -0.0262556   0.02239097\n",
            "   -0.02388175 -0.00440181 -0.04347557]\n",
            "  [-0.01820119  0.0022464  -0.00431123 -0.0262556   0.02239097\n",
            "   -0.02388175 -0.00440181 -0.04347557]]\n",
            "\n",
            " [[-0.00616723 -0.01550812 -0.04099081  0.02740966 -0.0233047\n",
            "    0.02406688  0.03049734  0.03991443]\n",
            "  [ 0.00235646 -0.01200866 -0.03779253 -0.00879268  0.01218661\n",
            "   -0.02386171  0.04719874  0.03205681]\n",
            "  [ 0.03209497  0.01001441 -0.00409777  0.04796961  0.0016076\n",
            "   -0.01766706 -0.02172011 -0.04172415]\n",
            "  [-0.0326608  -0.03343017 -0.01780885 -0.00126753  0.0101661\n",
            "   -0.03221718  0.00090418  0.00095264]]]\n"
          ],
          "name": "stdout"
        }
      ]
    },
    {
      "cell_type": "code",
      "metadata": {
        "id": "MKzjq0dCbwH_",
        "colab_type": "code",
        "colab": {}
      },
      "source": [
        ""
      ],
      "execution_count": 0,
      "outputs": []
    },
    {
      "cell_type": "code",
      "metadata": {
        "id": "PlEIkd0Jaqui",
        "colab_type": "code",
        "colab": {}
      },
      "source": [
        ""
      ],
      "execution_count": 0,
      "outputs": []
    }
  ]
}